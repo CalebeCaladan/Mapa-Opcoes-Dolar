{
  "nbformat": 4,
  "nbformat_minor": 0,
  "metadata": {
    "colab": {
      "name": "Mapa Opcoes Dolar.ipynb",
      "provenance": [],
      "authorship_tag": "ABX9TyMFKfunt4YvvuZgxm5ZptCX",
      "include_colab_link": true
    },
    "kernelspec": {
      "name": "python3",
      "display_name": "Python 3"
    }
  },
  "cells": [
    {
      "cell_type": "markdown",
      "metadata": {
        "id": "view-in-github",
        "colab_type": "text"
      },
      "source": [
        "<a href=\"https://colab.research.google.com/github/CalebeCaladan/Mapa-Opcoes-Dolar/blob/main/Mapa_Opcoes_Dolar.ipynb\" target=\"_parent\"><img src=\"https://colab.research.google.com/assets/colab-badge.svg\" alt=\"Open In Colab\"/></a>"
      ]
    },
    {
      "cell_type": "markdown",
      "metadata": {
        "id": "2Wk2xFKP42Kh"
      },
      "source": [
        "## **Importando as Bibliotecas**"
      ]
    },
    {
      "cell_type": "code",
      "metadata": {
        "colab": {
          "base_uri": "https://localhost:8080/"
        },
        "id": "grcyVI0Y4WnL",
        "outputId": "63a1cb53-13a2-4a67-b1fe-80c64d2266aa"
      },
      "source": [
        "!pip install selenium\n",
        "!pip install webdriver_manager\n",
        "!apt install chromium-chromedriver\n",
        "!pip install xlsxwriter"
      ],
      "execution_count": null,
      "outputs": [
        {
          "output_type": "stream",
          "text": [
            "Requirement already satisfied: selenium in /usr/local/lib/python3.7/dist-packages (3.141.0)\n",
            "Requirement already satisfied: urllib3 in /usr/local/lib/python3.7/dist-packages (from selenium) (1.24.3)\n",
            "Requirement already satisfied: webdriver_manager in /usr/local/lib/python3.7/dist-packages (3.3.0)\n",
            "Requirement already satisfied: requests in /usr/local/lib/python3.7/dist-packages (from webdriver_manager) (2.23.0)\n",
            "Requirement already satisfied: configparser in /usr/local/lib/python3.7/dist-packages (from webdriver_manager) (5.0.2)\n",
            "Requirement already satisfied: crayons in /usr/local/lib/python3.7/dist-packages (from webdriver_manager) (0.4.0)\n",
            "Requirement already satisfied: idna<3,>=2.5 in /usr/local/lib/python3.7/dist-packages (from requests->webdriver_manager) (2.10)\n",
            "Requirement already satisfied: certifi>=2017.4.17 in /usr/local/lib/python3.7/dist-packages (from requests->webdriver_manager) (2020.12.5)\n",
            "Requirement already satisfied: chardet<4,>=3.0.2 in /usr/local/lib/python3.7/dist-packages (from requests->webdriver_manager) (3.0.4)\n",
            "Requirement already satisfied: urllib3!=1.25.0,!=1.25.1,<1.26,>=1.21.1 in /usr/local/lib/python3.7/dist-packages (from requests->webdriver_manager) (1.24.3)\n",
            "Requirement already satisfied: colorama in /usr/local/lib/python3.7/dist-packages (from crayons->webdriver_manager) (0.4.4)\n",
            "Reading package lists... Done\n",
            "Building dependency tree       \n",
            "Reading state information... Done\n",
            "chromium-chromedriver is already the newest version (89.0.4389.82-0ubuntu0.18.04.1).\n",
            "0 upgraded, 0 newly installed, 0 to remove and 30 not upgraded.\n",
            "Collecting xlsxwriter\n",
            "\u001b[?25l  Downloading https://files.pythonhosted.org/packages/6b/41/bf1aae04932d1eaffee1fc5f8b38ca47bbbf07d765129539bc4bcce1ce0c/XlsxWriter-1.3.7-py2.py3-none-any.whl (144kB)\n",
            "\u001b[K     |████████████████████████████████| 153kB 9.8MB/s \n",
            "\u001b[?25hInstalling collected packages: xlsxwriter\n",
            "Successfully installed xlsxwriter-1.3.7\n"
          ],
          "name": "stdout"
        }
      ]
    },
    {
      "cell_type": "code",
      "metadata": {
        "id": "_FC1pIzD4lum"
      },
      "source": [
        "from selenium import webdriver\n",
        "import matplotlib.pyplot as plt\n",
        "plt.style.use('seaborn-darkgrid')\n",
        "\n",
        "import time\n",
        "import pandas as pd\n",
        "import numpy as np\n",
        "import requests\n",
        "from bs4 import BeautifulSoup\n",
        "from webdriver_manager.chrome import ChromeDriverManager\n",
        "\n",
        "from google.colab import files\n",
        "import xlsxwriter"
      ],
      "execution_count": null,
      "outputs": []
    },
    {
      "cell_type": "code",
      "metadata": {
        "id": "9B-ManSQ41GN"
      },
      "source": [
        "options = webdriver.ChromeOptions()\n",
        "options.add_argument('--headless')\n",
        "options.add_argument('--no-sandbox')\n",
        "options.add_argument('--disable-dev-shm-usage')\n",
        "wd = webdriver.Chrome('chromedriver', options = options)\n",
        "driver = webdriver.Chrome('chromedriver', options = options)"
      ],
      "execution_count": null,
      "outputs": []
    },
    {
      "cell_type": "markdown",
      "metadata": {
        "id": "OwOpf2bx58Au"
      },
      "source": [
        "## **Vencimento das Opções**"
      ]
    },
    {
      "cell_type": "code",
      "metadata": {
        "id": "dfe2QAg05BPd"
      },
      "source": [
        "driver.get('http://www2.bmf.com.br/pages/portal/bmfbovespa/lumis/lum-vencimentos-autorizados-ptBR.asp?cboMercado=3&cboMercadoria=2-DOL')"
      ],
      "execution_count": null,
      "outputs": []
    },
    {
      "cell_type": "code",
      "metadata": {
        "id": "iVv1A53h5TAX"
      },
      "source": [
        "dados = driver.find_element_by_id(\"table_2\")\n",
        "html = dados.get_attribute(\"innerHTML\")\n",
        "soup = BeautifulSoup(html, \"html.parser\")\n",
        "tables = soup.find_all(\"table\") #Pega todas as tabelas\n",
        "\n",
        "codCall, preco, codPut = [], [], []\n",
        "\n",
        "table = tables[0].find('tbody') #Pega do Proximo Mês\n",
        "rows = table.find_all('tr')\n",
        "for row in rows:\n",
        "    cols = row.find_all('td')\n",
        "    codCall.append(cols[1].text.replace(\"DOL\",\"\"))\n",
        "    preco.append(cols[2].text.replace(\".00\",\"\"))\n",
        "    codPut.append(cols[3].text.replace(\"DOL\",\"\"))\n",
        "\n",
        "callDol1 = pd.DataFrame(list(zip(codCall, preco)), columns = ['Serie','Preço'])\n",
        "putDol1 = pd.DataFrame(list(zip(codPut, preco)), columns = ['Serie','Preço'])\n",
        "\n",
        "codCall, preco, codPut = [], [], []\n",
        "\n",
        "table = tables[1].find('tbody') #Pegou do Outro Mês\n",
        "rows = table.find_all('tr')\n",
        "for row in rows:\n",
        "    cols = row.find_all('td')\n",
        "    codCall.append(cols[1].text.replace(\"DOL\",\"\"))\n",
        "    preco.append(cols[2].text.replace(\".00\",\"\"))\n",
        "    codPut.append(cols[3].text.replace(\"DOL\",\"\"))\n",
        "\n",
        "callDol2 = pd.DataFrame(list(zip(codCall, preco)), columns = ['Serie','Preço'])\n",
        "putDol2 = pd.DataFrame(list(zip(codPut, preco)), columns = ['Serie','Preço'])"
      ],
      "execution_count": null,
      "outputs": []
    },
    {
      "cell_type": "markdown",
      "metadata": {
        "id": "P9X6VbwW5625"
      },
      "source": [
        "## **Posições em Aberto**"
      ]
    },
    {
      "cell_type": "code",
      "metadata": {
        "id": "PEt2vHXg6Sdd"
      },
      "source": [
        "driver.get('http://www2.bmf.com.br/pages/portal/bmfbovespa/lumis/lum-posicoes-em-aberto-opcoes-ptBR.asp')"
      ],
      "execution_count": null,
      "outputs": []
    },
    {
      "cell_type": "code",
      "metadata": {
        "id": "VX3tRb2A53r4"
      },
      "source": [
        "dados = driver.find_element_by_xpath(\"//*[@id='divContainerIframeBmf']/div[6]/div\")\n",
        "\n",
        "html = dados.get_attribute(\"innerHTML\")\n",
        "soup = BeautifulSoup(html, \"html.parser\")\n",
        "\n",
        "table = soup.select_one(\"table\")\n",
        "\n",
        "codSerie, contratos, variacao = [], [], []\n",
        "rows = table.find_all('tr')\n",
        "for row in rows:\n",
        "    cols = row.find_all('td')\n",
        "    if len(cols) == 3:\n",
        "        codSerie.append(cols[0].text)\n",
        "        contratos.append(cols[1].text.replace(\".\",\"\"))\n",
        "        variacao.append(cols[2].text)\n",
        "\n",
        "series = pd.DataFrame(list(zip(codSerie, contratos, variacao)), columns = ['Serie','N Contratos','Variacao'])"
      ],
      "execution_count": null,
      "outputs": []
    },
    {
      "cell_type": "markdown",
      "metadata": {
        "id": "t5n3BVnh6eG4"
      },
      "source": [
        "## **Tratamento Dados**"
      ]
    },
    {
      "cell_type": "code",
      "metadata": {
        "id": "Sw08kBGS6UW-"
      },
      "source": [
        "tabelaCall1 = callDol1.set_index('Serie').join(series.set_index('Serie'))\n",
        "tabelaPut1 = putDol1.set_index('Serie').join(series.set_index('Serie'))\n",
        "\n",
        "tabelaCall2 = callDol2.set_index('Serie').join(series.set_index('Serie'))\n",
        "tabelaPut2 = putDol2.set_index('Serie').join(series.set_index('Serie'))\n",
        "\n",
        "pd.set_option('display.max_rows', None)\n",
        "final1 = pd.merge(tabelaCall1, tabelaPut1, on='Preço').sort_values(by='Preço', ascending=False).replace(to_replace = np.nan, value = \"0\") \n",
        "final2 = pd.merge(tabelaCall2, tabelaPut2, on='Preço').sort_values(by='Preço', ascending=False).replace(to_replace = np.nan, value = \"0\") \n",
        "\n",
        "final1['Preço'] = final1['Preço'].str.replace(',', '')\n",
        "\n",
        "final2['Preço'] = final2['Preço'].str.replace(',', '')\n",
        "\n",
        "final1 = final1.rename(columns = {'N Contratos_x' : 'Opções compra', 'Variacao_x' : 'Variação compra', 'N Contratos_y' : 'Opções venda', 'Variacao_y' : 'Variação Venda'})\n",
        "final2 = final2.rename(columns = {'N Contratos_x' : 'Opções compra', 'Variacao_x' : 'Variação compra', 'N Contratos_y' : 'Opções venda', 'Variacao_y' : 'Variação Venda'})"
      ],
      "execution_count": null,
      "outputs": []
    },
    {
      "cell_type": "markdown",
      "metadata": {
        "id": "MBZCbEdT78Xj"
      },
      "source": [
        "## **Grafico**"
      ]
    },
    {
      "cell_type": "code",
      "metadata": {
        "colab": {
          "base_uri": "https://localhost:8080/",
          "height": 617
        },
        "id": "iDSw7OmlL91C",
        "outputId": "be0cc7d4-8cd1-45d3-cc73-ccdc2bc1d5b7"
      },
      "source": [
        "qtd_compra = final1['Opções compra']\n",
        "qtd_venda = final1['Opções venda']\n",
        "preco = final1['Preço']\n",
        "\n",
        "qtd_compra = list(map(int,qtd_compra.tolist()))\n",
        "qtd_venda = list(map(int,qtd_venda.tolist()))\n",
        "preco = list(map(int,preco.tolist()))\n",
        "\n",
        "df = pd.DataFrame({'Call': qtd_compra, 'Put': qtd_venda}, index=preco)\n",
        "df = df[(df.T >= 400).any()]\n",
        "\n",
        "ax = df.plot.barh(figsize=(12,10), stacked=True)\n",
        "ax.invert_yaxis()\n",
        "ax.set_ylabel('Preço')\n",
        "ax.set_xlabel('N Contratos')\n",
        "ax.set_title('Mapa Opções')\n",
        "\n",
        "df = df.reset_index()"
      ],
      "execution_count": null,
      "outputs": [
        {
          "output_type": "display_data",
          "data": {
            "image/png": "[encoded data removed]",
            "text/plain": [
              "<Figure size 864x720 with 1 Axes>"
            ]
          },
          "metadata": {
            "tags": []
          }
        }
      ]
    },
    {
      "cell_type": "markdown",
      "metadata": {
        "id": "w_ukhSKQNd_4"
      },
      "source": [
        "## **Excel**"
      ]
    },
    {
      "cell_type": "code",
      "metadata": {
        "colab": {
          "base_uri": "https://localhost:8080/",
          "height": 17
        },
        "id": "2c0p7UvCNdPU",
        "outputId": "47aaab44-1238-41fe-ca79-4b401c0d1420"
      },
      "source": [
        "final1 = final1.astype(int)\n",
        "final1 = final1.loc[(final1['Opções compra'] > 0) | (final1['Opções venda'] > 0) ]\n",
        "\n",
        "final2 = final2.astype(int)\n",
        "final2 = final2.loc[(final2['Opções compra'] > 0) | (final2['Opções venda'] > 0) ]\n",
        "\n",
        "writer = pd.ExcelWriter('tabela_opcoes.xlsx', engine='xlsxwriter')\n",
        "\n",
        "final1.to_excel(writer, sheet_name='Sheet1')\n",
        "final2.to_excel(writer, sheet_name='Sheet1', startcol=7)\n",
        "\n",
        "writer.save()\n",
        "\n",
        "files.download('tabela_opcoes.xlsx')"
      ],
      "execution_count": null,
      "outputs": [
        {
          "output_type": "display_data",
          "data": {
            "application/javascript": [
              "\n",
              "    async function download(id, filename, size) {\n",
              "      if (!google.colab.kernel.accessAllowed) {\n",
              "        return;\n",
              "      }\n",
              "      const div = document.createElement('div');\n",
              "      const label = document.createElement('label');\n",
              "      label.textContent = `Downloading \"${filename}\": `;\n",
              "      div.appendChild(label);\n",
              "      const progress = document.createElement('progress');\n",
              "      progress.max = size;\n",
              "      div.appendChild(progress);\n",
              "      document.body.appendChild(div);\n",
              "\n",
              "      const buffers = [];\n",
              "      let downloaded = 0;\n",
              "\n",
              "      const channel = await google.colab.kernel.comms.open(id);\n",
              "      // Send a message to notify the kernel that we're ready.\n",
              "      channel.send({})\n",
              "\n",
              "      for await (const message of channel.messages) {\n",
              "        // Send a message to notify the kernel that we're ready.\n",
              "        channel.send({})\n",
              "        if (message.buffers) {\n",
              "          for (const buffer of message.buffers) {\n",
              "            buffers.push(buffer);\n",
              "            downloaded += buffer.byteLength;\n",
              "            progress.value = downloaded;\n",
              "          }\n",
              "        }\n",
              "      }\n",
              "      const blob = new Blob(buffers, {type: 'application/binary'});\n",
              "      const a = document.createElement('a');\n",
              "      a.href = window.URL.createObjectURL(blob);\n",
              "      a.download = filename;\n",
              "      div.appendChild(a);\n",
              "      a.click();\n",
              "      div.remove();\n",
              "    }\n",
              "  "
            ],
            "text/plain": [
              "<IPython.core.display.Javascript object>"
            ]
          },
          "metadata": {
            "tags": []
          }
        },
        {
          "output_type": "display_data",
          "data": {
            "application/javascript": [
              "download(\"download_610ee7a2-8083-4781-aad7-1221a209ff3f\", \"tabela_opcoes.xlsx\", 7980)"
            ],
            "text/plain": [
              "<IPython.core.display.Javascript object>"
            ]
          },
          "metadata": {
            "tags": []
          }
        }
      ]
    }
  ]
}